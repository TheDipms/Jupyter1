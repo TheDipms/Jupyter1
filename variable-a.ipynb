{
 "cells": [
  {
   "cell_type": "code",
   "execution_count": null,
   "metadata": {},
   "outputs": [],
   "source": [
    "from datetime import datetime\n",
    "\n",
    "string = \"First Name\"\n",
    "string1 = \"Last Name\"\n",
    "int = 0\n",
    "Date = datetime(2023,1,25)"
   ]
  }
 ],
 "metadata": {
  "language_info": {
   "name": "python"
  },
  "orig_nbformat": 4
 },
 "nbformat": 4,
 "nbformat_minor": 2
}
