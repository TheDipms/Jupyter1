{
 "cells": [
  {
   "cell_type": "code",
   "execution_count": 13,
   "metadata": {},
   "outputs": [
    {
     "name": "stdout",
     "output_type": "stream",
     "text": [
      "7\n",
      "4\n",
      "5\n",
      "2023-01-25\n"
     ]
    }
   ],
   "source": [
    "from datetime import datetime\n",
    "\n",
    "\n",
    "def create_contact() :\n",
    "    firstname = input('Enter first name')\n",
    "    lastname = input('Enter last name')\n",
    "    phone_number = input('Phone nimber')\n",
    "    date = datetime.today().date()\n",
    "    my_dict = {\n",
    "        \"Firstname\": firstname,\n",
    "        \"Lastname\": lastname,\n",
    "        \"Phone Number\": phone_number,\n",
    "        \"Date\": date  \n",
    "        }\n",
    "    return my_dict\n",
    "\n",
    "def show_contact(dictionnary) :\n",
    "    print(dictionnary['Firstname'])\n",
    "    print(dictionnary['Lastname'])\n",
    "    print(dictionnary['Phone Number'])\n",
    "    print(dictionnary['Date'])\n",
    "\n",
    "contact = create_contact()\n",
    "show_contact(contact)\n",
    "\n"
   ]
  },
  {
   "cell_type": "code",
   "execution_count": null,
   "metadata": {},
   "outputs": [],
   "source": []
  }
 ],
 "metadata": {
  "kernelspec": {
   "display_name": "Python 3",
   "language": "python",
   "name": "python3"
  },
  "language_info": {
   "codemirror_mode": {
    "name": "ipython",
    "version": 3
   },
   "file_extension": ".py",
   "mimetype": "text/x-python",
   "name": "python",
   "nbconvert_exporter": "python",
   "pygments_lexer": "ipython3",
   "version": "3.10.9"
  },
  "orig_nbformat": 4,
  "vscode": {
   "interpreter": {
    "hash": "97cba5719d159acad27bb7f37d182d27b1d38df28115fbd0d331121e7aca3605"
   }
  }
 },
 "nbformat": 4,
 "nbformat_minor": 2
}
