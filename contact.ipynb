{
 "cells": [
  {
   "cell_type": "code",
   "execution_count": 13,
   "metadata": {},
   "outputs": [
    {
     "name": "stdout",
     "output_type": "stream",
     "text": [
      "  Firstname Lastname Phone Number        Date\n",
      "0         m        m            m  2023-01-26\n",
      "['m']\n",
      "['m']\n",
      "['m']\n",
      "[datetime.date(2023, 1, 26)]\n"
     ]
    }
   ],
   "source": [
    "from datetime import datetime\n",
    "import pandas as pd\n",
    "\n",
    "\n",
    "def create_contact() :\n",
    "    firstname = input('Enter first name')\n",
    "    lastname = input('Enter last name')\n",
    "    phone_number = input('Phone number')\n",
    "    date = datetime.today().date()\n",
    "    my_dict = {\n",
    "        \"Firstname\": [firstname],\n",
    "        \"Lastname\": [lastname],\n",
    "        \"Phone Number\": [phone_number],\n",
    "        \"Date\": [date]  \n",
    "        }\n",
    "    print(pd.DataFrame(my_dict))\n",
    "    data= pd.DataFrame(my_dict)\n",
    "\n",
    "\n",
    "    data.to_csv(\"C:/Users/alexa/Pandas/Jupyter1/contact.csv\",index=False)\n",
    "    return my_dict\n",
    "\n",
    "def show_contact(dictionnary) :\n",
    "    print(dictionnary['Firstname'])\n",
    "    print(dictionnary['Lastname'])\n",
    "    print(dictionnary['Phone Number'])\n",
    "    print(dictionnary['Date'])\n",
    "\n",
    "contact = create_contact()\n",
    "show_contact(contact)\n",
    "\n",
    "def update(self, new_contact,new_date):\n",
    "    new_contact=pd.read_csv(\"contact.csv\")\n",
    "    contact['Firstname'][0]\n",
    "    mask = new_contact[\"Firstname\"]== contact['Firstname'][0]\n",
    "    new_contact['Phone Number'].loc[mask] = '0768000000'\n",
    "    new_contact\n",
    "    new_contact.to_csv(\"C:/Users/alexa/Pandas/Jupyter1/contact.csv\",index=False)\n",
    "    new_date['Date'].loc[mask] = datetime.today().date()\n",
    "    new_date\n",
    "    new_date.to_csv(\"C:/Users/alexa/Pandas/Jupyter1/contact.csv\",index=False)\n",
    "\n",
    "           "
   ]
  },
  {
   "cell_type": "code",
   "execution_count": 12,
   "metadata": {},
   "outputs": [
    {
     "data": {
      "text/html": [
       "<div>\n",
       "<style scoped>\n",
       "    .dataframe tbody tr th:only-of-type {\n",
       "        vertical-align: middle;\n",
       "    }\n",
       "\n",
       "    .dataframe tbody tr th {\n",
       "        vertical-align: top;\n",
       "    }\n",
       "\n",
       "    .dataframe thead th {\n",
       "        text-align: right;\n",
       "    }\n",
       "</style>\n",
       "<table border=\"1\" class=\"dataframe\">\n",
       "  <thead>\n",
       "    <tr style=\"text-align: right;\">\n",
       "      <th></th>\n",
       "      <th>Firstname</th>\n",
       "      <th>Lastname</th>\n",
       "      <th>Phone Number</th>\n",
       "      <th>Date</th>\n",
       "    </tr>\n",
       "  </thead>\n",
       "  <tbody>\n",
       "    <tr>\n",
       "      <th>0</th>\n",
       "      <td>m</td>\n",
       "      <td>mm</td>\n",
       "      <td>0768000000</td>\n",
       "      <td>2023-01-26</td>\n",
       "    </tr>\n",
       "  </tbody>\n",
       "</table>\n",
       "</div>"
      ],
      "text/plain": [
       "  Firstname Lastname Phone Number        Date\n",
       "0         m       mm   0768000000  2023-01-26"
      ]
     },
     "execution_count": 12,
     "metadata": {},
     "output_type": "execute_result"
    }
   ],
   "source": []
  },
  {
   "cell_type": "code",
   "execution_count": null,
   "metadata": {},
   "outputs": [],
   "source": []
  }
 ],
 "metadata": {
  "kernelspec": {
   "display_name": "Python 3",
   "language": "python",
   "name": "python3"
  },
  "language_info": {
   "codemirror_mode": {
    "name": "ipython",
    "version": 3
   },
   "file_extension": ".py",
   "mimetype": "text/x-python",
   "name": "python",
   "nbconvert_exporter": "python",
   "pygments_lexer": "ipython3",
   "version": "3.10.9"
  },
  "orig_nbformat": 4,
  "vscode": {
   "interpreter": {
    "hash": "97cba5719d159acad27bb7f37d182d27b1d38df28115fbd0d331121e7aca3605"
   }
  }
 },
 "nbformat": 4,
 "nbformat_minor": 2
}
